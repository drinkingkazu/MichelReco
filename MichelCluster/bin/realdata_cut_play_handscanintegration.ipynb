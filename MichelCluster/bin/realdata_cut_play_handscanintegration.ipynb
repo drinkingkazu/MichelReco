{
 "cells": [
  {
   "cell_type": "code",
   "execution_count": null,
   "metadata": {
    "collapsed": true
   },
   "outputs": [],
   "source": [
    "%matplotlib inline\n",
    "#%pylab\n",
    "import matplotlib\n",
    "import matplotlib.pyplot as plt\n",
    "import matplotlib.colors as mpc\n",
    "from mpl_toolkits.mplot3d import Axes3D\n",
    "import numpy as np\n",
    "\n",
    "import scipy\n",
    "from scipy import interpolate\n",
    "import pandas as pd\n",
    "import itertools\n",
    "from root_numpy import root2array, root2rec, tree2rec, array2root\n",
    "#from ROOT import TChain"
   ]
  },
  {
   "cell_type": "code",
   "execution_count": null,
   "metadata": {
    "collapsed": false
   },
   "outputs": [],
   "source": [
    "def get_data_frame(tfile,ttree):\n",
    "    rec = root2array(tfile,ttree)\n",
    "    return pd.DataFrame(rec)\n",
    "\n",
    "print 'Reading in real data...'\n",
    "REALDATA = get_data_frame(\"/Users/davidkaleko/larlite/UserDev/MichelReco/MichelCluster/mac/michel_clusters_fuzzycluster_cchit_onlyoutputtree.root\",\"out_tree\")\n"
   ]
  },
  {
   "cell_type": "code",
   "execution_count": null,
   "metadata": {
    "collapsed": false
   },
   "outputs": [],
   "source": [
    "#read in handscanned results\n",
    "handscan_textfilename = '/Users/davidkaleko/larlite/UserDev/MichelReco/MichelCluster/mac/michelcluster_cchit_fromfuzzycluster_handscanning_results.txt'\n",
    "#dict of (run, subrun, event, cluster idx) => result (=1 if is michel, 0 if not)\n",
    "scan_results_dict = {}\n",
    "for line in open(handscan_textfilename,'r'):\n",
    "    columns = line.split(' ')\n",
    "    myrun, mysubrun, myeventid, myidx, result = columns[0],columns[1],columns[2],columns[3],columns[4]\n",
    "    myrun, mysubrun, myeventid, myidx, result = int(myrun), int(mysubrun), int(myeventid), int(myidx), int(result)\n",
    "    if (myrun, mysubrun, myeventid, myidx) not in scan_results_dict.keys():\n",
    "        scan_results_dict[(myrun,mysubrun,myeventid, myidx)] = result\n",
    "    else:\n",
    "        print 'wtf double scanned event?'"
   ]
  },
  {
   "cell_type": "code",
   "execution_count": null,
   "metadata": {
    "collapsed": false
   },
   "outputs": [],
   "source": [
    "#Add a column to REALDATA showing the handscan results... default all values to -1\n",
    "#result will remain -1 if it was not ever scanned\n",
    "REALDATA['scan_result']=-1\n",
    "#Loop over REALDATA rows and modify the scan_result field accordingly,\n",
    "#based on the scan_results_dict\n",
    "for index, row in REALDATA.iterrows():\n",
    "    if (row['_run'], row['_subrun'], row['_event'], row['_clus_idx']) in scan_results_dict.keys():\n",
    "        REALDATA.loc[index,'scan_result']=scan_results_dict[(row['_run'], row['_subrun'], row['_event'], row['_clus_idx'])]"
   ]
  },
  {
   "cell_type": "code",
   "execution_count": null,
   "metadata": {
    "collapsed": false
   },
   "outputs": [],
   "source": [
    "print \"\\t!!!!!!!!!!!!!!!!!!!!!!!!!!!!!!!!!!!!!!!!!!\"\n",
    "print \"\\t!!!!~~~~~~~~~~~~~~NO CUTS~~~~~~~~~~~~~!!!!\"\n",
    "print \"\\t!!!!!!!!!!!!!!!!!!!!!!!!!!!!!!!!!!!!!!!!!!\"\n",
    "#kaleko: this used to be _largest_cluster_charge... cosmic_ana doesn't make that variable\n",
    "S = REALDATA.query    ('_michel_clustered_charge > 0 and scan_result == 1')\n",
    "B = REALDATA.query    ('_michel_clustered_charge > 0 and scan_result == 0')\n",
    "\n",
    "plt.figure(figsize=(16,24))\n",
    "\n",
    "plt.subplot(3,2,1)\n",
    "plt.grid(True)\n",
    "plt.hist(np.array(B['_lowest_chi']),bins=100,range=(0,1),normed=1,color='r',alpha=0.5,label=\"Handscan Background\")\n",
    "plt.hist(np.array(S['_lowest_chi']),bins=100,range=(0,1),normed=1,color='b',alpha=0.5,label=\"Handscan Signal\")\n",
    "plt.tick_params(labelsize=20)\n",
    "plt.xlabel('Lowest Chi',fontsize=20)\n",
    "plt.ylabel('Count',fontsize=20)\n",
    "plt.legend(fontsize=20)\n",
    "\n",
    "plt.subplot(3,2,2)\n",
    "plt.grid(True)\n",
    "plt.hist(np.array(B['_mean_chi']),bins=100,range=(0,1),normed=1,color='r',alpha=0.5,label=\"Handscan Background\")\n",
    "plt.hist(np.array(S['_mean_chi']),bins=100,range=(0,1),normed=1,color='b',alpha=0.5,label=\"Handscan Signal\")\n",
    "plt.tick_params(labelsize=20)\n",
    "plt.xlabel('Mean Chi',fontsize=20)\n",
    "plt.ylabel('Count',fontsize=20)\n",
    "plt.legend(fontsize=20)\n",
    "\n",
    "plt.subplot(3,2,3)\n",
    "plt.grid(True)\n",
    "plt.hist(np.array(B['_chi_at_boundary']),bins=100,range=(0,1),normed=1,color='r',alpha=0.5,label=\"Handscan Background\")\n",
    "plt.hist(np.array(S['_chi_at_boundary']),bins=100,range=(0,1),normed=1,color='b',alpha=0.5,label=\"Handscan Signal\")\n",
    "plt.tick_params(labelsize=20)\n",
    "plt.xlabel('Chi at Boundary',fontsize=20)\n",
    "plt.ylabel('Count',fontsize=20)\n",
    "plt.legend(fontsize=20)\n",
    "\n",
    "plt.subplot(3,2,4)\n",
    "plt.grid(True)\n",
    "#kaleko: _n_hits_in_largest_cluster_michel => _michel_n_hits\n",
    "plt.hist(np.array(B['_michel_n_hits']),bins=100,range=(0,100),normed=1,color='r',alpha=0.5,label=\"Handscan Background\")\n",
    "plt.hist(np.array(S['_michel_n_hits']),bins=100,range=(0,100),normed=1,color='b',alpha=0.5,label=\"Handscan Signal\")\n",
    "plt.tick_params(labelsize=20)\n",
    "plt.xlabel('N Hits in Michel',fontsize=20)\n",
    "plt.ylabel('Count',fontsize=20)\n",
    "plt.legend(fontsize=20)\n",
    "\n",
    "#kaleko: this used to be _largest_cluster_charge... cosmic_ana doesn't make that variable\n",
    "plt.subplot(3,2,5)\n",
    "plt.grid(True)\n",
    "plt.hist(np.array(B['_michel_clustered_charge'])*0.008*1.4,bins=100,range=(0,200),normed=1,color='r',alpha=0.5,label=\"Handscan Background\")\n",
    "plt.hist(np.array(S['_michel_clustered_charge'])*0.008*1.4,bins=100,range=(0,200),normed=1,color='b',alpha=0.5,label=\"Handscan Signal\")\n",
    "plt.tick_params(labelsize=20)\n",
    "plt.xlabel('Energy [MeV]',fontsize=20)\n",
    "plt.ylabel('Count/2 MeV',fontsize=20)\n",
    "plt.legend(fontsize=20)\n",
    "print \"entries = %d, underflow = %d, overflow = %d\"%(len(S['_michel_clustered_charge']),S.query('_michel_clustered_charge*0.008*1.4<0').shape[0],S.query('_michel_clustered_charge*0.008*1.4>200').shape[0])\n",
    "plt.show()\n"
   ]
  },
  {
   "cell_type": "code",
   "execution_count": null,
   "metadata": {
    "collapsed": false,
    "scrolled": false
   },
   "outputs": [],
   "source": [
    "print \"\\t!!!!!!!!!!!!!!!!!!!!!!!!!!!!!!!!!!!!!!!!!!\"\n",
    "print \"\\t!!!!~~~~~~~~~~~~CORRELATIONS~~~~~~~~~~!!!!\"\n",
    "print \"\\t!!!!!!!!!!!!!!!!!!!!!!!!!!!!!!!!!!!!!!!!!!\"\n",
    "\n",
    "plt.figure(figsize=(16,32))\n",
    "\n",
    "plt.subplot(5,2,1)\n",
    "Q1 = plt.hist2d(np.array(S['_michel_clustered_charge'])*0.008*1.4,\n",
    "                np.array(S['_lowest_chi']), \n",
    "                bins = 100,\n",
    "                range=np.array([(0, 100), (0,1)]))\n",
    "plt.colorbar()\n",
    "plt.tick_params(labelsize=20)\n",
    "plt.title(\"Handscanned Signal\",fontsize=20)\n",
    "plt.xlabel('Energy',fontsize=20)\n",
    "plt.ylabel('Lowest Chi',fontsize=20)\n",
    "\n",
    "plt.subplot(5,2,2)\n",
    "Q1 = plt.hist2d(np.array(B['_michel_clustered_charge'])*0.008*1.4,\n",
    "                np.array(B['_lowest_chi']), \n",
    "                bins = 100,\n",
    "                range=np.array([(0, 100), (0,1)]))\n",
    "plt.colorbar()\n",
    "plt.tick_params(labelsize=20)\n",
    "plt.title(\"Handscanned Background\",fontsize=20)\n",
    "plt.xlabel('Energy',fontsize=20)\n",
    "plt.ylabel('Lowest Chi',fontsize=20)\n",
    "\n",
    "plt.subplot(5,2,3)\n",
    "Q3 = plt.hist2d(np.array(S['_michel_clustered_charge'])*0.008*1.4,\n",
    "                np.array(S['_chi_at_boundary']), \n",
    "                bins = 100,\n",
    "                range=np.array([(0, 100), (0,1)]))\n",
    "plt.colorbar()\n",
    "plt.tick_params(labelsize=20)\n",
    "plt.title(\"Handscanned Signal\",fontsize=20)\n",
    "plt.xlabel('Energy',fontsize=20)\n",
    "plt.ylabel('Chi at Boundary',fontsize=20)\n",
    "\n",
    "plt.subplot(5,2,4)\n",
    "Q3 = plt.hist2d(np.array(B['_michel_clustered_charge'])*0.008*1.4,\n",
    "                np.array(B['_chi_at_boundary']), \n",
    "                bins = 100,\n",
    "                range=np.array([(0, 100), (0,1)]))\n",
    "plt.colorbar()\n",
    "plt.tick_params(labelsize=20)\n",
    "plt.title(\"Handscanned Background\",fontsize=20)\n",
    "plt.xlabel('Energy',fontsize=20)\n",
    "plt.ylabel('Chi at Boundary',fontsize=20)\n",
    "\n",
    "plt.subplot(5,2,5)\n",
    "Q3 = plt.hist2d(np.array(S['_michel_clustered_charge'])*0.008*1.4,\n",
    "                np.array(S['_mean_chi']), \n",
    "                bins = 100,\n",
    "                range=np.array([(0, 100), (0,1)]))\n",
    "plt.colorbar()\n",
    "plt.tick_params(labelsize=20)\n",
    "plt.title(\"Handscanned Signal\",fontsize=20)\n",
    "plt.xlabel('Energy',fontsize=20)\n",
    "plt.ylabel('Mean Chi',fontsize=20)\n",
    "\n",
    "plt.subplot(5,2,6)\n",
    "Q3 = plt.hist2d(np.array(B['_michel_clustered_charge'])*0.008*1.4,\n",
    "                np.array(B['_mean_chi']), \n",
    "                bins = 100,\n",
    "                range=np.array([(0, 100), (0,1)]))\n",
    "plt.colorbar()\n",
    "plt.tick_params(labelsize=20)\n",
    "plt.title(\"Handscanned Background\",fontsize=20)\n",
    "plt.xlabel('Energy',fontsize=20)\n",
    "plt.ylabel('Mean Chi',fontsize=20)\n",
    "\n",
    "plt.subplot(5,2,7)\n",
    "Q3 = plt.hist2d(np.array(S['_michel_clustered_charge'])*0.008*1.4,\n",
    "                np.array(S['_rms_chi']), \n",
    "                bins = 100,\n",
    "                range=np.array([(0, 100), (0,1)]))\n",
    "plt.colorbar()\n",
    "plt.tick_params(labelsize=20)\n",
    "plt.title(\"Handscanned Signal\",fontsize=20)\n",
    "plt.xlabel('Energy',fontsize=20)\n",
    "plt.ylabel('RMS Chi',fontsize=20)\n",
    "\n",
    "plt.subplot(5,2,8)\n",
    "Q3 = plt.hist2d(np.array(B['_michel_clustered_charge'])*0.008*1.4,\n",
    "                np.array(B['_rms_chi']), \n",
    "                bins = 100,\n",
    "                range=np.array([(0, 100), (0,1)]))\n",
    "plt.colorbar()\n",
    "plt.tick_params(labelsize=20)\n",
    "plt.title(\"Handscanned Background\",fontsize=20)\n",
    "plt.xlabel('Energy',fontsize=20)\n",
    "plt.ylabel('RMS Chi',fontsize=20)\n",
    "\n",
    "plt.subplot(5,2,9)\n",
    "Q3 = plt.hist2d(np.array(S['_michel_clustered_charge'])*0.008*1.4,\n",
    "                np.array(S['_michel_n_hits']), \n",
    "                bins = 100,\n",
    "                range=np.array([(0, 100), (0,100)]))\n",
    "plt.colorbar()\n",
    "plt.tick_params(labelsize=20)\n",
    "plt.title(\"Handscanned Signal\",fontsize=20)\n",
    "plt.xlabel('Energy',fontsize=20)\n",
    "plt.ylabel('N Hits in Michel Cluster',fontsize=20)\n",
    "\n",
    "plt.subplot(5,2,10)\n",
    "Q3 = plt.hist2d(np.array(B['_michel_clustered_charge'])*0.008*1.4,\n",
    "                np.array(B['_michel_n_hits']), \n",
    "                bins = 100,\n",
    "                range=np.array([(0, 100), (0,100)]))\n",
    "plt.colorbar()\n",
    "plt.tick_params(labelsize=20)\n",
    "plt.title(\"Handscanned Background\",fontsize=20)\n",
    "plt.xlabel('Energy',fontsize=20)\n",
    "plt.ylabel('N Hits in Michel Cluster',fontsize=20)\n",
    "\n",
    "plt.show()\n"
   ]
  },
  {
   "cell_type": "code",
   "execution_count": null,
   "metadata": {
    "collapsed": false,
    "scrolled": false
   },
   "outputs": [],
   "source": [
    "#THIS CELL IS OUTDATED AND DOES NOT APPLY TO REAL DATA\n",
    "\n",
    "\n",
    "print \"\\t!!!!!!!!!!!!!!!!!!!!!!!!!!!!!!!!!!!!!!!!!!\"\n",
    "print \"\\t!!!!~~~~~~~~~~~~WITH CUTS~~~~~~~~~~~~~!!!!\"\n",
    "print \"\\t!!!!!!!!!!!!!!!!!!!!!!!!!!!!!!!!!!!!!!!!!!\"\n",
    "\n",
    "print 'Applying precuts...'\n",
    "print 'Queried charge > 0. Events left=',S.shape[0]\n",
    "S = S.query('_michel_n_hits >= 10')\n",
    "print 'Queried n_hits >= 10. Events left=',S.shape[0]\n",
    "S = S.query('_lowest_chi < 0.28')\n",
    "print 'Queried lowest chi < 0.28. Events left=',S.shape[0]\n",
    "S = S.query('_chi_at_boundary < 0.68')\n",
    "print 'Queried chi at boundary < 0.68. Events left=',S.shape[0]\n",
    "#S = S.query('_mean_chi > 0.98')\n",
    "#print 'Queried mean_chi > 0.98. Events left=',S.shape[0]\n",
    "#temp\n",
    "S = S.query('_michel_clustered_charge < 8929')\n",
    "print 'Queried charge < 8929. Events left=',S.shape[0]\n",
    "\n",
    "plt.figure(figsize=(12,6))\n",
    "plt.hist(np.array(S['_michel_clustered_charge'])*0.008*1.4,bins=20,range=(0,200),color='b',alpha=0.5,label=\"Signal\")\n",
    "plt.tick_params(labelsize=20)\n",
    "\n",
    "plt.xlabel('Energy [MeV]',fontsize=20)\n",
    "plt.ylabel('Count/2 MeV',fontsize=20)\n",
    "plt.legend(fontsize=20)\n",
    "plt.savefig('sample.pdf')\n",
    "plt.show()\n"
   ]
  },
  {
   "cell_type": "code",
   "execution_count": null,
   "metadata": {
    "collapsed": true
   },
   "outputs": [],
   "source": [
    "print \"\\t!!!!!!!!!!!!!!!!!!!!!!!!!!!!!!!!!!!!!!!!!!\"\n",
    "print \"\\t!!!!~~~~~~~~~~~~WITH CUTS~~~~~~~~~~~~~!!!!\"\n",
    "print \"\\t!!!!!!!!!!!!!!!!!!!!!!!!!!!!!!!!!!!!!!!!!!\"\n",
    "\n",
    "plt.figure(figsize=(16,24))\n",
    "\n",
    "plt.subplot(3,2,1)\n",
    "plt.hist(np.array(B['lowest_chi']),bins=100,range=(0,1),color='r',alpha=0.5,label=\"Background\")\n",
    "plt.hist(np.array(S['lowest_chi']),bins=100,range=(0,1),color='b',alpha=0.5,label=\"Signal\")\n",
    "plt.tick_params(labelsize=20)\n",
    "\n",
    "plt.xlabel('Lowest Chi',fontsize=20)\n",
    "plt.ylabel('Count',fontsize=20)\n",
    "plt.legend(fontsize=20)\n",
    "\n",
    "plt.subplot(3,2,2)\n",
    "plt.hist(np.array(B['mean_chi']),bins=100,range=(0,1),color='r',alpha=0.5,label=\"Background\")\n",
    "plt.hist(np.array(S['mean_chi']),bins=100,range=(0,1),color='b',alpha=0.5,label=\"Signal\")\n",
    "plt.tick_params(labelsize=20)\n",
    "\n",
    "plt.xlabel('Mean Chi',fontsize=20)\n",
    "plt.ylabel('Count',fontsize=20)\n",
    "plt.legend(fontsize=20)\n",
    "\n",
    "plt.subplot(3,2,3)\n",
    "plt.hist(np.array(B['chi_at_boundary']),bins=100,range=(0,1),color='r',alpha=0.5,label=\"Background\")\n",
    "plt.hist(np.array(S['chi_at_boundary']),bins=100,range=(0,1),color='b',alpha=0.5,label=\"Signal\")\n",
    "plt.tick_params(labelsize=20)\n",
    "\n",
    "plt.xlabel('Chi at Boundary',fontsize=20)\n",
    "plt.ylabel('Count',fontsize=20)\n",
    "\n",
    "plt.subplot(3,2,4)\n",
    "plt.hist(np.array(B['_n_hits_in_largest_cluster_michel']),bins=100,range=(0,100),color='r',alpha=0.5,label=\"Background\")\n",
    "plt.hist(np.array(S['_n_hits_in_largest_cluster_michel']),bins=100,range=(0,100),color='b',alpha=0.5,label=\"Signal\")\n",
    "plt.tick_params(labelsize=20)\n",
    "\n",
    "plt.xlabel('N Hits in Michel',fontsize=20)\n",
    "plt.ylabel('Count',fontsize=20)\n",
    "\n",
    "plt.subplot(3,2,5)\n",
    "plt.hist(np.array(B['_number_of_clusters']),bins=100,range=(0,10),color='r',alpha=0.5,label=\"Background\")\n",
    "plt.hist(np.array(S['_number_of_clusters']),bins=100,range=(0,10),color='b',alpha=0.5,label=\"Signal\")\n",
    "plt.tick_params(labelsize=20)\n",
    "\n",
    "plt.xlabel('Number of Clusters',fontsize=20)\n",
    "plt.ylabel('Count',fontsize=20)\n",
    "\n",
    "plt.subplot(3,2,6)\n",
    "plt.hist(np.array(B['_largest_cluster_charge'])*0.008*1.4,bins=100,range=(0,200),color='r',alpha=0.5,label=\"Background\")\n",
    "plt.hist(np.array(S['_largest_cluster_charge'])*0.008*1.4,bins=100,range=(0,200),color='b',alpha=0.5,label=\"Signal\")\n",
    "plt.tick_params(labelsize=20)\n",
    "\n",
    "plt.xlabel('Energy [MeV]',fontsize=20)\n",
    "plt.ylabel('Count/2 MeV',fontsize=20)\n",
    "plt.legend(fontsize=20)\n",
    "plt.show()"
   ]
  },
  {
   "cell_type": "code",
   "execution_count": null,
   "metadata": {
    "collapsed": false
   },
   "outputs": [],
   "source": [
    "print np.array(S['_largest_cluster_charge']).size\n",
    "print np.array(SIGNAL['_largest_cluster_charge']).size"
   ]
  },
  {
   "cell_type": "code",
   "execution_count": null,
   "metadata": {
    "collapsed": false
   },
   "outputs": [],
   "source": [
    "print np.array(B['_largest_cluster_charge']).size\n",
    "print np.array(BACKGROUND['_largest_cluster_charge']).size"
   ]
  },
  {
   "cell_type": "code",
   "execution_count": null,
   "metadata": {
    "collapsed": false
   },
   "outputs": [],
   "source": [
    "101.0/53627.0"
   ]
  },
  {
   "cell_type": "code",
   "execution_count": null,
   "metadata": {
    "collapsed": false
   },
   "outputs": [],
   "source": [
    "S_temp = np.array(S.query('_largest_cluster_charge * 0.008 * 1.4 < 100'))"
   ]
  },
  {
   "cell_type": "code",
   "execution_count": null,
   "metadata": {
    "collapsed": false
   },
   "outputs": [],
   "source": [
    "S_temp.size"
   ]
  },
  {
   "cell_type": "code",
   "execution_count": null,
   "metadata": {
    "collapsed": true
   },
   "outputs": [],
   "source": []
  }
 ],
 "metadata": {
  "kernelspec": {
   "display_name": "Python 2",
   "language": "python",
   "name": "python2"
  },
  "language_info": {
   "codemirror_mode": {
    "name": "ipython",
    "version": 2
   },
   "file_extension": ".py",
   "mimetype": "text/x-python",
   "name": "python",
   "nbconvert_exporter": "python",
   "pygments_lexer": "ipython2",
   "version": "2.7.5"
  }
 },
 "nbformat": 4,
 "nbformat_minor": 0
}
